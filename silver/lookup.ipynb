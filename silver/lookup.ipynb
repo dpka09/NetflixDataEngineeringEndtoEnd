{
 "cells": [
  {
   "cell_type": "code",
   "execution_count": 0,
   "metadata": {
    "application/vnd.databricks.v1+cell": {
     "cellMetadata": {
      "byteLimit": 2048000,
      "rowLimit": 10000
     },
     "inputWidgets": {},
     "nuid": "941d1bb2-117a-4eca-8cd8-c651d3c26497",
     "showTitle": false,
     "tableResultSettingsMap": {},
     "title": ""
    }
   },
   "outputs": [],
   "source": [
    "files= [\n",
    "\n",
    "        {\n",
    "            \"sourcefolder\" : \"netflix_directors\",\n",
    "            \"targetfolder\" : \"netflix_directors\"\n",
    "        },\n",
    "\n",
    "        {\n",
    "\n",
    "            \"sourcefolder\" : \"netflix_countries\",\n",
    "            \"targetfolder\" : \"netflix_countries\"\n",
    "        },\n",
    "\n",
    "        {\n",
    "\n",
    "            \"sourcefolder\" : \"netflix_cast\",\n",
    "            \"targetfolder\" : \"netflix_cast\"\n",
    "        },\n",
    "\n",
    "        {\n",
    "\n",
    "            \"sourcefolder\" : \"netflix_category\",\n",
    "            \"targetfolder\" : \"netflix_category\"\n",
    "        }\n",
    "]"
   ]
  },
  {
   "cell_type": "markdown",
   "metadata": {
    "application/vnd.databricks.v1+cell": {
     "cellMetadata": {},
     "inputWidgets": {},
     "nuid": "81220ccf-dc90-4448-b58c-62c1c9b5bb97",
     "showTitle": false,
     "tableResultSettingsMap": {},
     "title": ""
    }
   },
   "source": [
    "Job Utility to return the Array\n"
   ]
  },
  {
   "cell_type": "code",
   "execution_count": 0,
   "metadata": {
    "application/vnd.databricks.v1+cell": {
     "cellMetadata": {
      "byteLimit": 2048000,
      "rowLimit": 10000
     },
     "inputWidgets": {},
     "nuid": "7622ffc3-e49c-4059-981f-e06b0efea77b",
     "showTitle": false,
     "tableResultSettingsMap": {},
     "title": ""
    }
   },
   "outputs": [],
   "source": [
    "dbutils.jobs.taskValues.set(key=\"my_array\", value=files)"
   ]
  },
  {
   "cell_type": "code",
   "execution_count": 0,
   "metadata": {
    "application/vnd.databricks.v1+cell": {
     "cellMetadata": {},
     "inputWidgets": {},
     "nuid": "e585c2b9-087c-4872-bf08-88a211474baa",
     "showTitle": false,
     "tableResultSettingsMap": {},
     "title": ""
    }
   },
   "outputs": [],
   "source": []
  }
 ],
 "metadata": {
  "application/vnd.databricks.v1+notebook": {
   "computePreferences": null,
   "dashboards": [],
   "environmentMetadata": {
    "base_environment": "",
    "environment_version": "2"
   },
   "inputWidgetPreferences": null,
   "language": "python",
   "notebookMetadata": {
    "pythonIndentUnit": 4
   },
   "notebookName": "lookup",
   "widgets": {}
  },
  "language_info": {
   "name": "python"
  }
 },
 "nbformat": 4,
 "nbformat_minor": 0
}